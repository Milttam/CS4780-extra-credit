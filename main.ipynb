{
 "cells": [
  {
   "cell_type": "code",
   "execution_count": null,
   "metadata": {},
   "outputs": [],
   "source": [
    "import numpy as np\n",
    "\n",
    "def load_npz(file_path):\n",
    "    with np.load(file_path) as data:\n",
    "        return {key: data[key] for key in data}\n",
    "\n",
    "train_data = load_npz('train.npz')\n",
    "test_data = load_npz('test.npz')\n",
    "train_emb1, train_emb2, train_labels = train_data['emb1'], train_data['emb2'], train_data['preference']\n",
    "test_emb1, test_emb2 = test_data['emb1'], test_data['emb2']"
   ]
  }
 ],
 "metadata": {
  "language_info": {
   "name": "python"
  }
 },
 "nbformat": 4,
 "nbformat_minor": 2
}
